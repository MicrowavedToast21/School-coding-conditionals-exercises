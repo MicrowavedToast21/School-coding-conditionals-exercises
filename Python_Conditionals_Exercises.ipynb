{
 "cells": [
  {
   "cell_type": "code",
   "execution_count": 29,
   "id": "85920acf",
   "metadata": {
    "scrolled": true
   },
   "outputs": [
    {
     "name": "stdout",
     "output_type": "stream",
     "text": [
      "Enter a letter: f\n",
      "f is a Consonant\n"
     ]
    }
   ],
   "source": [
    "letter = input(\"Enter a letter: \") \n",
    "if len(letter) != 1 or not letter.isalpha():#checks if there is only one letter or if the input is a letter in the alphabet\n",
    "    print(\"Please enter one single letter\")\n",
    "elif letter.lower() in (\"a\", \"e\", \"i\", \"o\", \"u\"):#Checks if letter is a vowel\n",
    "   print(f\"{letter} is a Vowel\")\n",
    "elif letter.upper() in (\"A\", \"E\", \"I\", \"O\", \"U\"):#Applies the first conditional to upper case vowels\n",
    "   print(f\"{letter} is a Vowel\")\n",
    "else:\n",
    "    print(f\"{letter} is a Consonant\")"
   ]
  },
  {
   "cell_type": "code",
   "execution_count": 30,
   "id": "a21ef22e",
   "metadata": {},
   "outputs": [
    {
     "name": "stdout",
     "output_type": "stream",
     "text": [
      "Enter a number: 4\n",
      "Enter a second number: 7\n",
      "Enter a third number: 6\n",
      "7.0 is the largest number\n"
     ]
    }
   ],
   "source": [
    "number1 = float(input(\"Enter a number: \"))\n",
    "number2 = float(input(\"Enter a second number: \"))#asks for numbers\n",
    "number3 = float(input(\"Enter a third number: \"))\n",
    "\n",
    "if (number1 >= number2) and (number1 >= number3):#Checks which number is largest by comparing them\n",
    "    print(f\"{number1} is the largest number\")\n",
    "elif (number2 >= number1) and (number2 >= number3):\n",
    "    print(f\"{number2} is the largest number\")\n",
    "else:\n",
    "    print(f\"{number3} is the largest number\")"
   ]
  },
  {
   "cell_type": "code",
   "execution_count": 31,
   "id": "ed4f20a1",
   "metadata": {},
   "outputs": [
    {
     "name": "stdout",
     "output_type": "stream",
     "text": [
      "Enter the year: 2007\n",
      "Enter the month: 3\n",
      "31\n"
     ]
    }
   ],
   "source": [
    "import calendar\n",
    "year = int(input(\"Enter the year: \"))#asks for year and month\n",
    "month = int(input(\"Enter the month: \"))\n",
    "print(calendar.monthrange(year, month)[1])#prints days in a month"
   ]
  },
  {
   "cell_type": "code",
   "execution_count": 95,
   "id": "629f930e",
   "metadata": {},
   "outputs": [
    {
     "name": "stdout",
     "output_type": "stream",
     "text": [
      "Enter the current temperature: 23\n",
      "The temperature is just right\n"
     ]
    }
   ],
   "source": [
    "temperature = int(input(\"Enter the current temperature: \"))\n",
    "if 20 <= temperature <= 27:\n",
    "   print(\"The temperature is just right\")#checks temperature by using boundaries\n",
    "elif temperature <= 20:\n",
    "     print(\"The temperature is too cold\")\n",
    "else: \n",
    "    print(\"The Temperature is too hot\")"
   ]
  },
  {
   "cell_type": "code",
   "execution_count": 25,
   "id": "76a4c34b",
   "metadata": {},
   "outputs": [
    {
     "name": "stdout",
     "output_type": "stream",
     "text": [
      "2002\n",
      "2009\n",
      "2016\n",
      "2023\n",
      "2037\n",
      "2044\n",
      "2051\n",
      "2058\n",
      "2072\n",
      "2079\n",
      "2086\n",
      "2093\n",
      "2107\n",
      "2114\n",
      "2121\n",
      "2128\n",
      "2142\n",
      "2149\n",
      "2156\n",
      "2163\n",
      "2177\n",
      "2184\n",
      "2191\n",
      "2198\n",
      "2212\n",
      "2219\n",
      "2226\n",
      "2233\n",
      "2247\n",
      "2254\n",
      "2261\n",
      "2268\n",
      "2282\n",
      "2289\n",
      "2296\n",
      "2303\n",
      "2317\n",
      "2324\n",
      "2331\n",
      "2338\n",
      "2352\n",
      "2359\n",
      "2366\n",
      "2373\n",
      "2387\n",
      "2394\n",
      "2401\n",
      "2408\n",
      "2422\n",
      "2429\n",
      "2436\n",
      "2443\n",
      "2457\n",
      "2464\n",
      "2471\n",
      "2478\n",
      "2492\n",
      "2499\n",
      "2506\n",
      "2513\n",
      "2527\n",
      "2534\n",
      "2541\n",
      "2548\n",
      "2562\n",
      "2569\n",
      "2576\n",
      "2583\n",
      "2597\n",
      "2604\n",
      "2611\n",
      "2618\n",
      "2632\n",
      "2639\n",
      "2646\n",
      "2653\n",
      "2667\n",
      "2674\n",
      "2681\n",
      "2688\n",
      "2702\n",
      "2709\n",
      "2716\n",
      "2723\n",
      "2737\n",
      "2744\n",
      "2751\n",
      "2758\n",
      "2772\n",
      "2779\n",
      "2786\n",
      "2793\n",
      "2807\n",
      "2814\n",
      "2821\n",
      "2828\n",
      "2842\n",
      "2849\n",
      "2856\n",
      "2863\n",
      "2877\n",
      "2884\n",
      "2891\n",
      "2898\n",
      "2912\n",
      "2919\n",
      "2926\n",
      "2933\n",
      "2947\n",
      "2954\n",
      "2961\n",
      "2968\n",
      "2982\n",
      "2989\n",
      "2996\n",
      "3003\n",
      "3017\n",
      "3024\n",
      "3031\n",
      "3038\n",
      "3052\n",
      "3059\n",
      "3066\n",
      "3073\n",
      "3087\n",
      "3094\n",
      "3101\n",
      "3108\n",
      "3122\n",
      "3129\n",
      "3136\n",
      "3143\n",
      "3157\n",
      "3164\n",
      "3171\n",
      "3178\n",
      "3192\n",
      "3199\n"
     ]
    }
   ],
   "source": [
    "for i in range(2000, 3200):#iterates through all numbers between 2000 and 3200\n",
    "    if i%7==0 and i%5!=0:#checks if numbers are divisible by 7 and not a multiple of 5\n",
    "        print(i)"
   ]
  },
  {
   "cell_type": "code",
   "execution_count": 38,
   "id": "57052c50",
   "metadata": {},
   "outputs": [
    {
     "name": "stdout",
     "output_type": "stream",
     "text": [
      "Enter the sides of the triangle: \n",
      "Enter side a: 4\n",
      "Enter side b: 5\n",
      "Enter side c: 6\n",
      "Triangle is not pythagorean triple\n"
     ]
    }
   ],
   "source": [
    "def is_pythagorean_triple(a, b, c):#applies the pythagorean theorem\n",
    "    sides = [a, b ,c]\n",
    "    sides.sort()\n",
    "    return sides[0]**2 + sides[1]**2 == sides[2]**2\n",
    "\n",
    "print(\"Enter the sides of the triangle: \")\n",
    "a = float(input(\"Enter side a: \"))\n",
    "b = float(input(\"Enter side b: \"))\n",
    "c = float(input(\"Enter side c: \"))\n",
    "\n",
    "if is_pythagorean_triple(a, b, c):#checks if all sides match\n",
    "    print(\"Triangle is pythagorean triple\")\n",
    "else:\n",
    "    print(\"Triangle is not pythagorean triple\")"
   ]
  },
  {
   "cell_type": "code",
   "execution_count": 40,
   "id": "b2f6278b",
   "metadata": {},
   "outputs": [
    {
     "name": "stdout",
     "output_type": "stream",
     "text": [
      "Enter the a constant of the quadratic equation: 1\n",
      "Enter the b constant of the quadratic equation: 6\n",
      "Enter the c constant of the quadratic equation: 8\n",
      "The solutions are (-4+0j) and (-2+0j)\n"
     ]
    }
   ],
   "source": [
    "import cmath\n",
    "\n",
    "a = float(input(\"Enter the a constant of the quadratic equation: \"))#asks for constant\n",
    "b = float(input(\"Enter the b constant of the quadratic equation: \"))\n",
    "c = float(input(\"Enter the c constant of the quadratic equation: \"))\n",
    "\n",
    "d = (b**2) - (4*a*c)\n",
    "\n",
    "sol1 = (-b-cmath.sqrt(d))/(2*a)#calculates both solutions\n",
    "sol2 = (-b+cmath.sqrt(d))/(2*a)\n",
    "\n",
    "print(\"The solutions are {0} and {1}\".format(sol1, sol2))"
   ]
  },
  {
   "cell_type": "code",
   "execution_count": 63,
   "id": "62e04d8e",
   "metadata": {},
   "outputs": [
    {
     "name": "stdout",
     "output_type": "stream",
     "text": [
      "Enter your Extended Essay total marks: 23\n",
      "Your final grade is: B – Good\n"
     ]
    }
   ],
   "source": [
    "def extended_essay_mark_calculator(total_marks):#checks grade by using boundaries\n",
    "    if 27 <= total_marks <= 34:\n",
    "       return(\"A – Excellent\")\n",
    "    elif 21 <= total_marks <= 26:\n",
    "       return(\"B – Good\")\n",
    "    elif 14 <= total_marks <= 20:\n",
    "       return(\"C – Satisfactory\")\n",
    "    elif 7 <=total_marks <= 13:\n",
    "       return(\"D – Mediocre\")\n",
    "    else:\n",
    "       return(\"E – Elementary\")\n",
    "total_marks = int(input(\"Enter your Extended Essay total marks: \"))\n",
    "grade = extended_essay_mark_calculator(total_marks)\n",
    "print(f\"Your final grade is: {grade}\")#prints final grade"
   ]
  },
  {
   "cell_type": "code",
   "execution_count": 62,
   "id": "a175bfd0",
   "metadata": {},
   "outputs": [
    {
     "name": "stdout",
     "output_type": "stream",
     "text": [
      "Enter sideA of the triangle: 8\n",
      "Enter sideB of the triangle: 4\n",
      "Enter sideC of the triangle: 9\n",
      "Triangle is scalene\n"
     ]
    }
   ],
   "source": [
    "sideA = int(input(\"Enter sideA of the triangle: \"))\n",
    "sideB = int(input(\"Enter sideB of the triangle: \"))\n",
    "sideC = int(input(\"Enter sideC of the triangle: \"))\n",
    "if sideA == sideB == sideC:#checks type of triangle\n",
    "    print(\"Triangle is equilateral\")\n",
    "elif sideA == sideB or sideB == sideA or sideB == sideC:\n",
    "    print(\"Triangle is isosceles\")\n",
    "else:\n",
    "    print(\"Triangle is scalene\")"
   ]
  },
  {
   "cell_type": "code",
   "execution_count": 72,
   "id": "8c8e9ba4",
   "metadata": {},
   "outputs": [
    {
     "name": "stdout",
     "output_type": "stream",
     "text": [
      "Enter a day of the week between 1-7: 4\n",
      "Thursday\n"
     ]
    }
   ],
   "source": [
    "weekday_dict = { #stores all days of the week\n",
    "    1:\"Monday\",\n",
    "    2:\"Tuesday\",\n",
    "    3:\"Wednesday\",\n",
    "    4:\"Thursday\",\n",
    "    5:\"Friday\",\n",
    "    6:\"Saturday\",\n",
    "    7:\"Sunday\"\n",
    "}\n",
    "\n",
    "weekday = int(input(\"Enter a day of the week between 1-7: \"))\n",
    "if weekday in weekday_dict:#checks if number corresponds to a weekday\n",
    "    print(weekday_dict[weekday])\n",
    "else:\n",
    "    print(\"Wrong input\")"
   ]
  },
  {
   "cell_type": "code",
   "execution_count": 97,
   "id": "d048987f",
   "metadata": {},
   "outputs": [
    {
     "name": "stdout",
     "output_type": "stream",
     "text": [
      "Enter correct username and password to continue\n",
      "Enter username: 21\n",
      "Enter password: 312\n",
      "Access denied, you shall not pass!\n",
      "Enter username: 125\n",
      "Enter password: 124\n",
      "Access denied, you shall not pass!\n"
     ]
    },
    {
     "ename": "KeyboardInterrupt",
     "evalue": "Interrupted by user",
     "output_type": "error",
     "traceback": [
      "\u001b[0;31m---------------------------------------------------------------------------\u001b[0m",
      "\u001b[0;31mKeyboardInterrupt\u001b[0m                         Traceback (most recent call last)",
      "Cell \u001b[0;32mIn[97], line 4\u001b[0m\n\u001b[1;32m      2\u001b[0m count \u001b[38;5;241m=\u001b[39m \u001b[38;5;241m0\u001b[39m\n\u001b[1;32m      3\u001b[0m \u001b[38;5;28;01mwhile\u001b[39;00m count\u001b[38;5;241m<\u001b[39m\u001b[38;5;241m4\u001b[39m:\n\u001b[0;32m----> 4\u001b[0m     username\u001b[38;5;241m=\u001b[39m\u001b[38;5;28minput\u001b[39m(\u001b[38;5;124m\"\u001b[39m\u001b[38;5;124mEnter username: \u001b[39m\u001b[38;5;124m\"\u001b[39m)\n\u001b[1;32m      5\u001b[0m     password\u001b[38;5;241m=\u001b[39m\u001b[38;5;28minput\u001b[39m(\u001b[38;5;124m\"\u001b[39m\u001b[38;5;124mEnter password: \u001b[39m\u001b[38;5;124m\"\u001b[39m)\n\u001b[1;32m      6\u001b[0m     \u001b[38;5;28;01mif\u001b[39;00m username\u001b[38;5;241m==\u001b[39m\u001b[38;5;124m\"\u001b[39m\u001b[38;5;124mbankAdmin\u001b[39m\u001b[38;5;124m\"\u001b[39m \u001b[38;5;129;01mand\u001b[39;00m password\u001b[38;5;241m==\u001b[39m\u001b[38;5;124m\"\u001b[39m\u001b[38;5;124mmisterioso1234\u001b[39m\u001b[38;5;124m\"\u001b[39m:\u001b[38;5;66;03m#checks if username and password matches\u001b[39;00m\n",
      "File \u001b[0;32m~/anaconda3/lib/python3.11/site-packages/ipykernel/kernelbase.py:1202\u001b[0m, in \u001b[0;36mKernel.raw_input\u001b[0;34m(self, prompt)\u001b[0m\n\u001b[1;32m   1200\u001b[0m     msg \u001b[38;5;241m=\u001b[39m \u001b[38;5;124m\"\u001b[39m\u001b[38;5;124mraw_input was called, but this frontend does not support input requests.\u001b[39m\u001b[38;5;124m\"\u001b[39m\n\u001b[1;32m   1201\u001b[0m     \u001b[38;5;28;01mraise\u001b[39;00m StdinNotImplementedError(msg)\n\u001b[0;32m-> 1202\u001b[0m \u001b[38;5;28;01mreturn\u001b[39;00m \u001b[38;5;28mself\u001b[39m\u001b[38;5;241m.\u001b[39m_input_request(\n\u001b[1;32m   1203\u001b[0m     \u001b[38;5;28mstr\u001b[39m(prompt),\n\u001b[1;32m   1204\u001b[0m     \u001b[38;5;28mself\u001b[39m\u001b[38;5;241m.\u001b[39m_parent_ident[\u001b[38;5;124m\"\u001b[39m\u001b[38;5;124mshell\u001b[39m\u001b[38;5;124m\"\u001b[39m],\n\u001b[1;32m   1205\u001b[0m     \u001b[38;5;28mself\u001b[39m\u001b[38;5;241m.\u001b[39mget_parent(\u001b[38;5;124m\"\u001b[39m\u001b[38;5;124mshell\u001b[39m\u001b[38;5;124m\"\u001b[39m),\n\u001b[1;32m   1206\u001b[0m     password\u001b[38;5;241m=\u001b[39m\u001b[38;5;28;01mFalse\u001b[39;00m,\n\u001b[1;32m   1207\u001b[0m )\n",
      "File \u001b[0;32m~/anaconda3/lib/python3.11/site-packages/ipykernel/kernelbase.py:1245\u001b[0m, in \u001b[0;36mKernel._input_request\u001b[0;34m(self, prompt, ident, parent, password)\u001b[0m\n\u001b[1;32m   1242\u001b[0m \u001b[38;5;28;01mexcept\u001b[39;00m \u001b[38;5;167;01mKeyboardInterrupt\u001b[39;00m:\n\u001b[1;32m   1243\u001b[0m     \u001b[38;5;66;03m# re-raise KeyboardInterrupt, to truncate traceback\u001b[39;00m\n\u001b[1;32m   1244\u001b[0m     msg \u001b[38;5;241m=\u001b[39m \u001b[38;5;124m\"\u001b[39m\u001b[38;5;124mInterrupted by user\u001b[39m\u001b[38;5;124m\"\u001b[39m\n\u001b[0;32m-> 1245\u001b[0m     \u001b[38;5;28;01mraise\u001b[39;00m \u001b[38;5;167;01mKeyboardInterrupt\u001b[39;00m(msg) \u001b[38;5;28;01mfrom\u001b[39;00m \u001b[38;5;28;01mNone\u001b[39;00m\n\u001b[1;32m   1246\u001b[0m \u001b[38;5;28;01mexcept\u001b[39;00m \u001b[38;5;167;01mException\u001b[39;00m:\n\u001b[1;32m   1247\u001b[0m     \u001b[38;5;28mself\u001b[39m\u001b[38;5;241m.\u001b[39mlog\u001b[38;5;241m.\u001b[39mwarning(\u001b[38;5;124m\"\u001b[39m\u001b[38;5;124mInvalid Message:\u001b[39m\u001b[38;5;124m\"\u001b[39m, exc_info\u001b[38;5;241m=\u001b[39m\u001b[38;5;28;01mTrue\u001b[39;00m)\n",
      "\u001b[0;31mKeyboardInterrupt\u001b[0m: Interrupted by user"
     ]
    }
   ],
   "source": [
    "print(\"Enter correct username and password to continue\")\n",
    "count = 0\n",
    "while count<4:\n",
    "    username=input(\"Enter username: \")\n",
    "    password=input(\"Enter password: \")\n",
    "    if username==\"bankAdmin\" and password==\"misterioso1234\":#checks if username and password matches\n",
    "        print(f\"Greetings,Mr {username}!  \")\n",
    "        count=5#count controls the loop so that the user can try again if they fail\n",
    "    else:\n",
    "        print(f\"Access denied, you shall not pass!\")\n",
    "        count+=1"
   ]
  }
 ],
 "metadata": {
  "kernelspec": {
   "display_name": "Python 3 (ipykernel)",
   "language": "python",
   "name": "python3"
  },
  "language_info": {
   "codemirror_mode": {
    "name": "ipython",
    "version": 3
   },
   "file_extension": ".py",
   "mimetype": "text/x-python",
   "name": "python",
   "nbconvert_exporter": "python",
   "pygments_lexer": "ipython3",
   "version": "3.11.5"
  }
 },
 "nbformat": 4,
 "nbformat_minor": 5
}
